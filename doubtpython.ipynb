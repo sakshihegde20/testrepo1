{
 "cells": [
  {
   "cell_type": "code",
   "execution_count": null,
   "id": "45e14c97",
   "metadata": {},
   "outputs": [],
   "source": [
    "# Import required packages\n",
    "import pandas as pd\n",
    "import dash\n",
    "import dash_core_components as dcc\n",
    "import dash_html_components as html\n",
    "import plotly.express as px\n",
    "from dash.dependencies import Input, Output\n",
    "\n",
    "# Add Dataframe\n",
    "\n",
    "# Add a bar graph figure\n",
    "\n",
    "app = dash.Dash()\n",
    "app.layout = html.Div(children=[\n",
    "    html.H1(\n",
    "        children='Dashboard',\n",
    "        style={\n",
    "            'textAlign': 'center'\n",
    "        }\n",
    "    )\n",
    "\n",
    "    # Create dropdown\n",
    "\n",
    "    # Bar graph\n",
    "])\n",
    "\n",
    "# Run Application\n",
    "if __name__ == '__main__':\n",
    "    app.run_server()\n",
    "\n",
    "    # Create dropdown\n",
    "    dcc.Dropdown(options=[\n",
    "            {'label': 'New York City', 'value': 'NYC'},\n",
    "            {'label': 'Montréal', 'value': 'MTL'},\n",
    "            {'label': 'San Francisco', 'value': 'SF'}\n",
    "        ],\n",
    "        value='NYC' # Providing a vallue to dropdown\n",
    "    )"
   ]
  }
 ],
 "metadata": {
  "kernelspec": {
   "display_name": "Python 3",
   "language": "python",
   "name": "python3"
  },
  "language_info": {
   "codemirror_mode": {
    "name": "ipython",
    "version": 3
   },
   "file_extension": ".py",
   "mimetype": "text/x-python",
   "name": "python",
   "nbconvert_exporter": "python",
   "pygments_lexer": "ipython3",
   "version": "3.8.5"
  }
 },
 "nbformat": 4,
 "nbformat_minor": 5
}
